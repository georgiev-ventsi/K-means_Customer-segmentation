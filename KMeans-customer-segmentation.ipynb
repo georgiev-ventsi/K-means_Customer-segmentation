{
 "cells": [
  {
   "cell_type": "markdown",
   "id": "1fc0c234",
   "metadata": {},
   "source": [
    "# <center> K-Means - Customer segmentation </center>"
   ]
  },
  {
   "cell_type": "markdown",
   "id": "11105390",
   "metadata": {},
   "source": [
    "<hr>"
   ]
  },
  {
   "cell_type": "markdown",
   "id": "6d0c4a1c",
   "metadata": {},
   "source": [
    "## Project Agenda\n",
    "\n",
    " #### 1. What is K-Means Algorithm?\n",
    " #### 2. How does the K-Means Algorithm Work?\n",
    " #### 3. How to choose the value of \"K number of clusters\" in K-means Clustering?\n",
    " #### 4. Elbow Method\n",
    " #### 5. Python Implementation of K-means Clustering Algorithm\n",
    " \n",
    "   * Step-1: Data pre-processing Step\n",
    "   * Step-2: Finding the optimal number of clusters using the elbow method\n",
    "   * Step- 3: Training the K-means algorithm on the training dataset\n",
    "   * Step-4: Visualizing the Clusters\n",
    "\n",
    " #### 6. Analyzing the obtained results\n",
    " \n",
    " "
   ]
  },
  {
   "cell_type": "markdown",
   "id": "4a3ab75c",
   "metadata": {},
   "source": [
    "<hr>"
   ]
  },
  {
   "cell_type": "markdown",
   "id": "02c0cef3",
   "metadata": {},
   "source": [
    "### 1. What is K-Means Algorithm?"
   ]
  },
  {
   "cell_type": "markdown",
   "id": "4fcb936d",
   "metadata": {},
   "source": [
    "K-Means Clustering is an Unsupervised Learning algorithm, which groups the unlabeled dataset into different clusters. Here K defines the number of pre-defined clusters that need to be created in the process, as if K=2, there will be two clusters, and for K=3, there will be three clusters, and so on.<br>\n",
    "\n",
    "It is an iterative algorithm that divides the unlabeled dataset into k different clusters in such a way that each dataset belongs only one group that has similar properties.\n",
    "It allows us to cluster the data into different groups and a convenient way to discover the categories of groups in the unlabeled dataset on its own without the need for any training.<br>\n",
    "\n",
    "It is a centroid-based algorithm, where each cluster is associated with a centroid. The main aim of this algorithm is to minimize the sum of distances between the data point and their corresponding clusters.<br>\n",
    "\n",
    "The algorithm takes the unlabeled dataset as input, divides the dataset into k-number of clusters, and repeats the process until it does not find the best clusters. The value of k should be predetermined in this algorithm. <br>\n",
    "\n",
    "The k-means clustering algorithm mainly performs two tasks:<br>\n",
    "\n",
    "Determines the best value for K center points or centroids by an iterative process.<br>\n",
    "Assigns each data point to its closest k-center. Those data points which are near to the particular k-center, create a cluster.\n",
    "Hence each cluster has datapoints with some commonalities, and it is away from other clusters.<br>\n",
    "\n",
    "The below diagram explains the working of the K-means Clustering Algorithm:<br>\n",
    "\n"
   ]
  },
  {
   "cell_type": "markdown",
   "id": "62af64b1",
   "metadata": {},
   "source": [
    "<center>\n",
    "    <img src='./img/k-means-clustering-algorithm-in-machine-learning.png'>\n",
    "</center>\n"
   ]
  },
  {
   "cell_type": "markdown",
   "id": "99feb74e",
   "metadata": {},
   "source": [
    "### 2. How does the K-Means Algorithm Work?"
   ]
  },
  {
   "cell_type": "markdown",
   "id": "4fbf80d6",
   "metadata": {},
   "source": [
    "\n",
    "The working of the K-Means algorithm is explained in the below steps:\n",
    "\n",
    "Step-1: Select the number K to decide the number of clusters.\n",
    "\n",
    "Step-2: Select random K points or centroids. (It can be other from the input dataset).\n",
    "\n",
    "Step-3: Assign each data point to their closest centroid, which will form the predefined K clusters.\n",
    "\n",
    "Step-4: Calculate the variance and place a new centroid of each cluster.\n",
    "\n",
    "Step-5: Repeat the third steps, which means reassign each datapoint to the new closest centroid of each cluster.\n",
    "\n",
    "Step-6: If any reassignment occurs, then go to step-4 else go to FINISH.\n",
    "\n",
    "Step-7: The model is ready.\n",
    "\n",
    "Let's understand the above steps by considering the visual plots:\n",
    "\n",
    "Suppose we have two variables M1 and M2. The x-y axis scatter plot of these two variables is given below:"
   ]
  },
  {
   "cell_type": "markdown",
   "id": "4672e52d",
   "metadata": {},
   "source": [
    "<center>\n",
    "    <img src='./img/k-means-clustering-algorithm-in-machine-learning2.png'>\n",
    "</center>"
   ]
  },
  {
   "cell_type": "markdown",
   "id": "77452776",
   "metadata": {},
   "source": [
    "Let's take number k of clusters, i.e., K=2, to identify the dataset and to put them into different clusters. It means here we will try to group these datasets into two different clusters.<br>\n",
    "\n",
    "We need to choose some random k points or centroid to form the cluster. These points can be either the points from the dataset or any other point. So, here we are selecting the below two points as k points, which are not the part of our dataset. Consider the below image:"
   ]
  },
  {
   "cell_type": "markdown",
   "id": "5f333378",
   "metadata": {},
   "source": [
    "<center>\n",
    "    <img src='./img/k-means-clustering-algorithm-in-machine-learning3.png'>\n",
    "</center>"
   ]
  },
  {
   "cell_type": "markdown",
   "id": "e5a193d8",
   "metadata": {},
   "source": [
    "Now we will assign each data point of the scatter plot to its closest K-point or centroid. We will compute it by applying some mathematics that we have studied to calculate the distance between two points. So, we will draw a median between both the centroids. Consider the below image:"
   ]
  },
  {
   "cell_type": "markdown",
   "id": "3cf5fe26",
   "metadata": {},
   "source": [
    "<center>\n",
    "    <img src='./img/k-means-clustering-algorithm-in-machine-learning4.png'>\n",
    "</center>"
   ]
  },
  {
   "cell_type": "markdown",
   "id": "6ed3bfcc",
   "metadata": {},
   "source": [
    "From the above image, it is clear that points left side of the line is near to the K1 or blue centroid, and points to the right of the line are close to the yellow centroid. Let's color them as blue and yellow for clear visualization."
   ]
  },
  {
   "cell_type": "markdown",
   "id": "38f0210a",
   "metadata": {},
   "source": [
    "<center>\n",
    "    <img src='./img/k-means-clustering-algorithm-in-machine-learning5.png'>\n",
    "</center>"
   ]
  },
  {
   "cell_type": "markdown",
   "id": "bfce9ecb",
   "metadata": {},
   "source": [
    "As we need to find the closest cluster, so we will repeat the process by choosing a new centroid. To choose the new centroids, we will compute the center of gravity of these centroids, and will find new centroids as below:"
   ]
  },
  {
   "cell_type": "markdown",
   "id": "2c7f7d13",
   "metadata": {},
   "source": [
    "<center>\n",
    "    <img src='./img/k-means-clustering-algorithm-in-machine-learning6.png'>\n",
    "</center>"
   ]
  },
  {
   "cell_type": "markdown",
   "id": "35a72862",
   "metadata": {},
   "source": [
    "Next, we will reassign each datapoint to the new centroid. For this, we will repeat the same process of finding a median line. The median will be like below image:"
   ]
  },
  {
   "cell_type": "markdown",
   "id": "71b3d1dc",
   "metadata": {},
   "source": [
    "<center>\n",
    "    <img src='./img/k-means-clustering-algorithm-in-machine-learning7.png'>\n",
    "</center>"
   ]
  },
  {
   "cell_type": "markdown",
   "id": "339d94ee",
   "metadata": {},
   "source": [
    "From the above image, we can see, one yellow point is on the left side of the line, and two blue points are right to the line. So, these three points will be assigned to new centroids."
   ]
  },
  {
   "cell_type": "markdown",
   "id": "596c7652",
   "metadata": {},
   "source": [
    "<center>\n",
    "    <img src='./img/k-means-clustering-algorithm-in-machine-learning8.png'>\n",
    "</center>"
   ]
  },
  {
   "cell_type": "markdown",
   "id": "d21db571",
   "metadata": {},
   "source": [
    "As reassignment has taken place, so we will again go to the step-4, which is finding new centroids or K-points.<br>\n",
    "\n",
    "We will repeat the process by finding the center of gravity of centroids, so the new centroids will be as shown in the below image:"
   ]
  },
  {
   "cell_type": "markdown",
   "id": "397a35d4",
   "metadata": {},
   "source": [
    "<center>\n",
    "    <img src='./img/k-means-clustering-algorithm-in-machine-learning9.png'>\n",
    "</center>"
   ]
  },
  {
   "cell_type": "markdown",
   "id": "bcc65ac9",
   "metadata": {},
   "source": [
    "As we got the new centroids so again will draw the median line and reassign the data points. So, the image will be:"
   ]
  },
  {
   "cell_type": "markdown",
   "id": "ccafd7a9",
   "metadata": {},
   "source": [
    "<center>\n",
    "    <img src='./img/k-means-clustering-algorithm-in-machine-learning10.png'>\n",
    "</center>"
   ]
  },
  {
   "cell_type": "markdown",
   "id": "ded38ec8",
   "metadata": {},
   "source": [
    "We can see in the above image; there are no dissimilar data points on either side of the line, which means our model is formed. Consider the below image:"
   ]
  },
  {
   "cell_type": "markdown",
   "id": "715bba14",
   "metadata": {},
   "source": [
    "<center>\n",
    "    <img src='./img/k-means-clustering-algorithm-in-machine-learning11.png'>\n",
    "</center>"
   ]
  },
  {
   "cell_type": "markdown",
   "id": "eddbb713",
   "metadata": {},
   "source": [
    "As our model is ready, so we can now remove the assumed centroids, and the two final clusters will be as shown in the below image:"
   ]
  },
  {
   "cell_type": "markdown",
   "id": "a455d740",
   "metadata": {},
   "source": [
    "<center>\n",
    "    <img src='./img/k-means-clustering-algorithm-in-machine-learning12.png'>\n",
    "</center>"
   ]
  },
  {
   "cell_type": "markdown",
   "id": "0f334a57",
   "metadata": {},
   "source": [
    "## How to choose the value of \"K number of clusters\" in K-means Clustering?"
   ]
  },
  {
   "cell_type": "markdown",
   "id": "a5643b0f",
   "metadata": {},
   "source": [
    "The performance of the K-means clustering algorithm depends upon highly efficient clusters that it forms. But choosing the optimal number of clusters is a big task. There are some different ways to find the optimal number of clusters, but here we are discussing the most appropriate method to find the number of clusters or value of K. The method is given below:<br>\n",
    "\n",
    "<b>Elbow Method</b><br>\n",
    "The Elbow method is one of the most popular ways to find the optimal number of clusters. This method uses the concept of WCSS value. WCSS stands for Within Cluster Sum of Squares, which defines the total variations within a cluster. The formula to calculate the value of WCSS (for 3 clusters) is given below:"
   ]
  },
  {
   "cell_type": "markdown",
   "id": "dd44beee",
   "metadata": {},
   "source": [
    "WCSS= ∑Pi in Cluster1 distance(Pi C1)2 +∑Pi in Cluster2distance(Pi C2)2+∑Pi in CLuster3 distance(Pi C3)2"
   ]
  },
  {
   "cell_type": "markdown",
   "id": "87297ccb",
   "metadata": {},
   "source": [
    "In the above formula of WCSS,\n",
    "\n",
    "∑Pi in Cluster1 distance(Pi C1)2: It is the sum of the square of the distances between each data point and its centroid within a cluster1 and the same for the other two terms.\n",
    "\n",
    "To measure the distance between data points and centroid, we can use any method such as Euclidean distance or Manhattan distance.\n",
    "\n",
    "To find the optimal value of clusters, the elbow method follows the below steps:\n",
    "\n",
    "   * It executes the K-means clustering on a given dataset for different K values (ranges from 1-10).\n",
    "   * For each value of K, calculates the WCSS value.\n",
    "   * Plots a curve between calculated WCSS values and the number of clusters K.\n",
    "   * The sharp point of bend or a point of the plot looks like an arm, then that point is considered as the best value of K.\n",
    "   * Since the graph shows the sharp bend, which looks like an elbow, hence it is known as the elbow method. The graph for the elbow method looks like the below image:\n",
    "\n",
    "Since the graph shows the sharp bend, which looks like an elbow, hence it is known as the elbow method. The graph for the elbow method looks like the below image:"
   ]
  },
  {
   "cell_type": "markdown",
   "id": "22f7bbee",
   "metadata": {},
   "source": [
    "<center>\n",
    "    <img src='./img/k-means-clustering-algorithm-in-machine-learning13.png'>\n",
    "</center>"
   ]
  },
  {
   "cell_type": "markdown",
   "id": "0ee74494",
   "metadata": {},
   "source": [
    "<i>Note: This is image is not related to the data that we are going to analyze later in this project.\n",
    "\n",
    "Note: We can choose the number of clusters equal to the given data points. If we choose the number of clusters equal to the data points, then the value of WCSS becomes zero, and that will be the endpoint of the plot.</i>"
   ]
  },
  {
   "cell_type": "markdown",
   "id": "84cd4582",
   "metadata": {},
   "source": [
    "## 5. Python Implementation of K-means Clustering Algorithm"
   ]
  },
  {
   "cell_type": "markdown",
   "id": "3681504e",
   "metadata": {},
   "source": [
    "In the above section, we have discussed the K-means algorithm, now let's see how it can be implemented using Python.\n",
    "\n",
    "Before implementation, let's understand what type of problem we will solve here. So, we have a dataset of Mall_Customers, which is the data of customers who visit the mall and spend there.\n",
    "\n",
    "In the given dataset, we have Customer_Id, Gender, Age, Annual Income ($), and Spending Score (which is the calculated value of how much a customer has spent in the mall, the more the value, the more he has spent). From this dataset, we need to calculate some patterns, as it is an unsupervised method, so we don't know what to calculate exactly.\n",
    "\n",
    "The steps to be followed for the implementation are given below:\n",
    "\n",
    "Data Pre-processing\n",
    "  * Finding the optimal number of clusters using the elbow method\n",
    "  * Training the K-means algorithm on the training dataset\n",
    "  * Visualizing the clusters"
   ]
  },
  {
   "cell_type": "code",
   "execution_count": 148,
   "id": "ccf341ae",
   "metadata": {},
   "outputs": [],
   "source": [
    "# the magic function\n",
    "\n",
    "%matplotlib inline"
   ]
  },
  {
   "cell_type": "code",
   "execution_count": 149,
   "id": "68830295",
   "metadata": {},
   "outputs": [],
   "source": [
    "# main imports  \n",
    "\n",
    "import numpy as np\n",
    "import matplotlib.pyplot as plt\n",
    "import pandas as pd\n",
    "import seaborn as sns   \n",
    "from sklearn.cluster import KMeans"
   ]
  },
  {
   "cell_type": "markdown",
   "id": "3eb10d01",
   "metadata": {},
   "source": [
    "#### Step-1: Data pre-processing Step"
   ]
  },
  {
   "cell_type": "code",
   "execution_count": 150,
   "id": "702cb457",
   "metadata": {},
   "outputs": [],
   "source": [
    "# import dataset\n",
    "\n",
    "df = pd.read_csv('./data/Mall_Customers.csv')"
   ]
  },
  {
   "cell_type": "code",
   "execution_count": 151,
   "id": "488894db",
   "metadata": {},
   "outputs": [
    {
     "data": {
      "text/html": [
       "<div>\n",
       "<style scoped>\n",
       "    .dataframe tbody tr th:only-of-type {\n",
       "        vertical-align: middle;\n",
       "    }\n",
       "\n",
       "    .dataframe tbody tr th {\n",
       "        vertical-align: top;\n",
       "    }\n",
       "\n",
       "    .dataframe thead th {\n",
       "        text-align: right;\n",
       "    }\n",
       "</style>\n",
       "<table border=\"1\" class=\"dataframe\">\n",
       "  <thead>\n",
       "    <tr style=\"text-align: right;\">\n",
       "      <th></th>\n",
       "      <th>CustomerID</th>\n",
       "      <th>Gender</th>\n",
       "      <th>Age</th>\n",
       "      <th>Annual Income (k$)</th>\n",
       "      <th>Spending Score (1-100)</th>\n",
       "    </tr>\n",
       "  </thead>\n",
       "  <tbody>\n",
       "    <tr>\n",
       "      <th>0</th>\n",
       "      <td>1</td>\n",
       "      <td>Male</td>\n",
       "      <td>19</td>\n",
       "      <td>15</td>\n",
       "      <td>39</td>\n",
       "    </tr>\n",
       "    <tr>\n",
       "      <th>1</th>\n",
       "      <td>2</td>\n",
       "      <td>Male</td>\n",
       "      <td>21</td>\n",
       "      <td>15</td>\n",
       "      <td>81</td>\n",
       "    </tr>\n",
       "    <tr>\n",
       "      <th>2</th>\n",
       "      <td>3</td>\n",
       "      <td>Female</td>\n",
       "      <td>20</td>\n",
       "      <td>16</td>\n",
       "      <td>6</td>\n",
       "    </tr>\n",
       "    <tr>\n",
       "      <th>3</th>\n",
       "      <td>4</td>\n",
       "      <td>Female</td>\n",
       "      <td>23</td>\n",
       "      <td>16</td>\n",
       "      <td>77</td>\n",
       "    </tr>\n",
       "    <tr>\n",
       "      <th>4</th>\n",
       "      <td>5</td>\n",
       "      <td>Female</td>\n",
       "      <td>31</td>\n",
       "      <td>17</td>\n",
       "      <td>40</td>\n",
       "    </tr>\n",
       "  </tbody>\n",
       "</table>\n",
       "</div>"
      ],
      "text/plain": [
       "   CustomerID  Gender  Age  Annual Income (k$)  Spending Score (1-100)\n",
       "0           1    Male   19                  15                      39\n",
       "1           2    Male   21                  15                      81\n",
       "2           3  Female   20                  16                       6\n",
       "3           4  Female   23                  16                      77\n",
       "4           5  Female   31                  17                      40"
      ]
     },
     "execution_count": 151,
     "metadata": {},
     "output_type": "execute_result"
    }
   ],
   "source": [
    "# preview the headers and the top 5 rows of the dataset\n",
    "\n",
    "df.head()"
   ]
  },
  {
   "cell_type": "code",
   "execution_count": 152,
   "id": "a4bf10ec",
   "metadata": {},
   "outputs": [
    {
     "data": {
      "text/html": [
       "<div>\n",
       "<style scoped>\n",
       "    .dataframe tbody tr th:only-of-type {\n",
       "        vertical-align: middle;\n",
       "    }\n",
       "\n",
       "    .dataframe tbody tr th {\n",
       "        vertical-align: top;\n",
       "    }\n",
       "\n",
       "    .dataframe thead th {\n",
       "        text-align: right;\n",
       "    }\n",
       "</style>\n",
       "<table border=\"1\" class=\"dataframe\">\n",
       "  <thead>\n",
       "    <tr style=\"text-align: right;\">\n",
       "      <th></th>\n",
       "      <th>CustomerID</th>\n",
       "      <th>Gender</th>\n",
       "      <th>Age</th>\n",
       "      <th>Annual Income (k$)</th>\n",
       "      <th>Spending Score (1-100)</th>\n",
       "    </tr>\n",
       "  </thead>\n",
       "  <tbody>\n",
       "    <tr>\n",
       "      <th>195</th>\n",
       "      <td>196</td>\n",
       "      <td>Female</td>\n",
       "      <td>35</td>\n",
       "      <td>120</td>\n",
       "      <td>79</td>\n",
       "    </tr>\n",
       "    <tr>\n",
       "      <th>196</th>\n",
       "      <td>197</td>\n",
       "      <td>Female</td>\n",
       "      <td>45</td>\n",
       "      <td>126</td>\n",
       "      <td>28</td>\n",
       "    </tr>\n",
       "    <tr>\n",
       "      <th>197</th>\n",
       "      <td>198</td>\n",
       "      <td>Male</td>\n",
       "      <td>32</td>\n",
       "      <td>126</td>\n",
       "      <td>74</td>\n",
       "    </tr>\n",
       "    <tr>\n",
       "      <th>198</th>\n",
       "      <td>199</td>\n",
       "      <td>Male</td>\n",
       "      <td>32</td>\n",
       "      <td>137</td>\n",
       "      <td>18</td>\n",
       "    </tr>\n",
       "    <tr>\n",
       "      <th>199</th>\n",
       "      <td>200</td>\n",
       "      <td>Male</td>\n",
       "      <td>30</td>\n",
       "      <td>137</td>\n",
       "      <td>83</td>\n",
       "    </tr>\n",
       "  </tbody>\n",
       "</table>\n",
       "</div>"
      ],
      "text/plain": [
       "     CustomerID  Gender  Age  Annual Income (k$)  Spending Score (1-100)\n",
       "195         196  Female   35                 120                      79\n",
       "196         197  Female   45                 126                      28\n",
       "197         198    Male   32                 126                      74\n",
       "198         199    Male   32                 137                      18\n",
       "199         200    Male   30                 137                      83"
      ]
     },
     "execution_count": 152,
     "metadata": {},
     "output_type": "execute_result"
    }
   ],
   "source": [
    "# preview the last elements of the dataset\n",
    "\n",
    "df.tail()"
   ]
  },
  {
   "cell_type": "code",
   "execution_count": 153,
   "id": "9aa1864a",
   "metadata": {},
   "outputs": [
    {
     "data": {
      "text/plain": [
       "(200, 5)"
      ]
     },
     "execution_count": 153,
     "metadata": {},
     "output_type": "execute_result"
    }
   ],
   "source": [
    "# preview the shape of the dataset\n",
    "\n",
    "df.shape"
   ]
  },
  {
   "cell_type": "code",
   "execution_count": 154,
   "id": "fe385d95",
   "metadata": {},
   "outputs": [
    {
     "data": {
      "text/plain": [
       "CustomerID                0\n",
       "Gender                    0\n",
       "Age                       0\n",
       "Annual Income (k$)        0\n",
       "Spending Score (1-100)    0\n",
       "dtype: int64"
      ]
     },
     "execution_count": 154,
     "metadata": {},
     "output_type": "execute_result"
    }
   ],
   "source": [
    "# check if there are any num values\n",
    "\n",
    "df.isnull().sum()"
   ]
  },
  {
   "cell_type": "code",
   "execution_count": 155,
   "id": "27c20087",
   "metadata": {},
   "outputs": [
    {
     "data": {
      "text/plain": [
       "CustomerID                 int64\n",
       "Gender                    object\n",
       "Age                        int64\n",
       "Annual Income (k$)         int64\n",
       "Spending Score (1-100)     int64\n",
       "dtype: object"
      ]
     },
     "execution_count": 155,
     "metadata": {},
     "output_type": "execute_result"
    }
   ],
   "source": [
    "# preview the data type of every column\n",
    "\n",
    "df.dtypes"
   ]
  },
  {
   "cell_type": "code",
   "execution_count": 156,
   "id": "d4218908",
   "metadata": {},
   "outputs": [
    {
     "name": "stdout",
     "output_type": "stream",
     "text": [
      "<class 'pandas.core.frame.DataFrame'>\n",
      "RangeIndex: 200 entries, 0 to 199\n",
      "Data columns (total 5 columns):\n",
      " #   Column                  Non-Null Count  Dtype \n",
      "---  ------                  --------------  ----- \n",
      " 0   CustomerID              200 non-null    int64 \n",
      " 1   Gender                  200 non-null    object\n",
      " 2   Age                     200 non-null    int64 \n",
      " 3   Annual Income (k$)      200 non-null    int64 \n",
      " 4   Spending Score (1-100)  200 non-null    int64 \n",
      "dtypes: int64(4), object(1)\n",
      "memory usage: 7.9+ KB\n"
     ]
    }
   ],
   "source": [
    "# preview more complex information about every feature\n",
    "\n",
    "df.info()"
   ]
  },
  {
   "cell_type": "code",
   "execution_count": 157,
   "id": "f3459b55",
   "metadata": {},
   "outputs": [
    {
     "data": {
      "text/html": [
       "<div>\n",
       "<style scoped>\n",
       "    .dataframe tbody tr th:only-of-type {\n",
       "        vertical-align: middle;\n",
       "    }\n",
       "\n",
       "    .dataframe tbody tr th {\n",
       "        vertical-align: top;\n",
       "    }\n",
       "\n",
       "    .dataframe thead th {\n",
       "        text-align: right;\n",
       "    }\n",
       "</style>\n",
       "<table border=\"1\" class=\"dataframe\">\n",
       "  <thead>\n",
       "    <tr style=\"text-align: right;\">\n",
       "      <th></th>\n",
       "      <th>CustomerID</th>\n",
       "      <th>Age</th>\n",
       "      <th>Annual Income (k$)</th>\n",
       "      <th>Spending Score (1-100)</th>\n",
       "    </tr>\n",
       "  </thead>\n",
       "  <tbody>\n",
       "    <tr>\n",
       "      <th>count</th>\n",
       "      <td>200.000000</td>\n",
       "      <td>200.000000</td>\n",
       "      <td>200.000000</td>\n",
       "      <td>200.000000</td>\n",
       "    </tr>\n",
       "    <tr>\n",
       "      <th>mean</th>\n",
       "      <td>100.500000</td>\n",
       "      <td>38.850000</td>\n",
       "      <td>60.560000</td>\n",
       "      <td>50.200000</td>\n",
       "    </tr>\n",
       "    <tr>\n",
       "      <th>std</th>\n",
       "      <td>57.879185</td>\n",
       "      <td>13.969007</td>\n",
       "      <td>26.264721</td>\n",
       "      <td>25.823522</td>\n",
       "    </tr>\n",
       "    <tr>\n",
       "      <th>min</th>\n",
       "      <td>1.000000</td>\n",
       "      <td>18.000000</td>\n",
       "      <td>15.000000</td>\n",
       "      <td>1.000000</td>\n",
       "    </tr>\n",
       "    <tr>\n",
       "      <th>25%</th>\n",
       "      <td>50.750000</td>\n",
       "      <td>28.750000</td>\n",
       "      <td>41.500000</td>\n",
       "      <td>34.750000</td>\n",
       "    </tr>\n",
       "    <tr>\n",
       "      <th>50%</th>\n",
       "      <td>100.500000</td>\n",
       "      <td>36.000000</td>\n",
       "      <td>61.500000</td>\n",
       "      <td>50.000000</td>\n",
       "    </tr>\n",
       "    <tr>\n",
       "      <th>75%</th>\n",
       "      <td>150.250000</td>\n",
       "      <td>49.000000</td>\n",
       "      <td>78.000000</td>\n",
       "      <td>73.000000</td>\n",
       "    </tr>\n",
       "    <tr>\n",
       "      <th>max</th>\n",
       "      <td>200.000000</td>\n",
       "      <td>70.000000</td>\n",
       "      <td>137.000000</td>\n",
       "      <td>99.000000</td>\n",
       "    </tr>\n",
       "  </tbody>\n",
       "</table>\n",
       "</div>"
      ],
      "text/plain": [
       "       CustomerID         Age  Annual Income (k$)  Spending Score (1-100)\n",
       "count  200.000000  200.000000          200.000000              200.000000\n",
       "mean   100.500000   38.850000           60.560000               50.200000\n",
       "std     57.879185   13.969007           26.264721               25.823522\n",
       "min      1.000000   18.000000           15.000000                1.000000\n",
       "25%     50.750000   28.750000           41.500000               34.750000\n",
       "50%    100.500000   36.000000           61.500000               50.000000\n",
       "75%    150.250000   49.000000           78.000000               73.000000\n",
       "max    200.000000   70.000000          137.000000               99.000000"
      ]
     },
     "execution_count": 157,
     "metadata": {},
     "output_type": "execute_result"
    }
   ],
   "source": [
    "# preview more complex information about int features\n",
    "\n",
    "df.describe()"
   ]
  },
  {
   "cell_type": "code",
   "execution_count": 158,
   "id": "3a9ce6fa",
   "metadata": {},
   "outputs": [
    {
     "data": {
      "text/html": [
       "<div>\n",
       "<style scoped>\n",
       "    .dataframe tbody tr th:only-of-type {\n",
       "        vertical-align: middle;\n",
       "    }\n",
       "\n",
       "    .dataframe tbody tr th {\n",
       "        vertical-align: top;\n",
       "    }\n",
       "\n",
       "    .dataframe thead th {\n",
       "        text-align: right;\n",
       "    }\n",
       "</style>\n",
       "<table border=\"1\" class=\"dataframe\">\n",
       "  <thead>\n",
       "    <tr style=\"text-align: right;\">\n",
       "      <th></th>\n",
       "      <th>Gender</th>\n",
       "      <th>Age</th>\n",
       "      <th>Annual Income (k$)</th>\n",
       "      <th>Spending Score (1-100)</th>\n",
       "    </tr>\n",
       "  </thead>\n",
       "  <tbody>\n",
       "    <tr>\n",
       "      <th>0</th>\n",
       "      <td>Male</td>\n",
       "      <td>19</td>\n",
       "      <td>15</td>\n",
       "      <td>39</td>\n",
       "    </tr>\n",
       "    <tr>\n",
       "      <th>1</th>\n",
       "      <td>Male</td>\n",
       "      <td>21</td>\n",
       "      <td>15</td>\n",
       "      <td>81</td>\n",
       "    </tr>\n",
       "    <tr>\n",
       "      <th>2</th>\n",
       "      <td>Female</td>\n",
       "      <td>20</td>\n",
       "      <td>16</td>\n",
       "      <td>6</td>\n",
       "    </tr>\n",
       "    <tr>\n",
       "      <th>3</th>\n",
       "      <td>Female</td>\n",
       "      <td>23</td>\n",
       "      <td>16</td>\n",
       "      <td>77</td>\n",
       "    </tr>\n",
       "    <tr>\n",
       "      <th>4</th>\n",
       "      <td>Female</td>\n",
       "      <td>31</td>\n",
       "      <td>17</td>\n",
       "      <td>40</td>\n",
       "    </tr>\n",
       "    <tr>\n",
       "      <th>...</th>\n",
       "      <td>...</td>\n",
       "      <td>...</td>\n",
       "      <td>...</td>\n",
       "      <td>...</td>\n",
       "    </tr>\n",
       "    <tr>\n",
       "      <th>195</th>\n",
       "      <td>Female</td>\n",
       "      <td>35</td>\n",
       "      <td>120</td>\n",
       "      <td>79</td>\n",
       "    </tr>\n",
       "    <tr>\n",
       "      <th>196</th>\n",
       "      <td>Female</td>\n",
       "      <td>45</td>\n",
       "      <td>126</td>\n",
       "      <td>28</td>\n",
       "    </tr>\n",
       "    <tr>\n",
       "      <th>197</th>\n",
       "      <td>Male</td>\n",
       "      <td>32</td>\n",
       "      <td>126</td>\n",
       "      <td>74</td>\n",
       "    </tr>\n",
       "    <tr>\n",
       "      <th>198</th>\n",
       "      <td>Male</td>\n",
       "      <td>32</td>\n",
       "      <td>137</td>\n",
       "      <td>18</td>\n",
       "    </tr>\n",
       "    <tr>\n",
       "      <th>199</th>\n",
       "      <td>Male</td>\n",
       "      <td>30</td>\n",
       "      <td>137</td>\n",
       "      <td>83</td>\n",
       "    </tr>\n",
       "  </tbody>\n",
       "</table>\n",
       "<p>200 rows × 4 columns</p>\n",
       "</div>"
      ],
      "text/plain": [
       "     Gender  Age  Annual Income (k$)  Spending Score (1-100)\n",
       "0      Male   19                  15                      39\n",
       "1      Male   21                  15                      81\n",
       "2    Female   20                  16                       6\n",
       "3    Female   23                  16                      77\n",
       "4    Female   31                  17                      40\n",
       "..      ...  ...                 ...                     ...\n",
       "195  Female   35                 120                      79\n",
       "196  Female   45                 126                      28\n",
       "197    Male   32                 126                      74\n",
       "198    Male   32                 137                      18\n",
       "199    Male   30                 137                      83\n",
       "\n",
       "[200 rows x 4 columns]"
      ]
     },
     "execution_count": 158,
     "metadata": {},
     "output_type": "execute_result"
    }
   ],
   "source": [
    "# drop the 'Customer ID' column since we dont need it and it does not provide any valuable information\n",
    "\n",
    "df.drop(['CustomerID'], axis=1, inplace=True)\n",
    "df"
   ]
  },
  {
   "cell_type": "markdown",
   "id": "aa48f22a",
   "metadata": {},
   "source": [
    "From the above dataset, we need to find some patterns in it.\n",
    "\n",
    "Extracting Independent Variables:<br>\n",
    "Here we don't need any dependent variable for data pre-processing step as it is a clustering problem, and we have no idea about what to determine. So we will just add a line of code for the matrix of features."
   ]
  },
  {
   "cell_type": "code",
   "execution_count": 159,
   "id": "494112e8",
   "metadata": {},
   "outputs": [
    {
     "data": {
      "text/plain": [
       "array([[ 15,  39],\n",
       "       [ 15,  81],\n",
       "       [ 16,   6],\n",
       "       [ 16,  77],\n",
       "       [ 17,  40],\n",
       "       [ 17,  76],\n",
       "       [ 18,   6],\n",
       "       [ 18,  94],\n",
       "       [ 19,   3],\n",
       "       [ 19,  72],\n",
       "       [ 19,  14],\n",
       "       [ 19,  99],\n",
       "       [ 20,  15],\n",
       "       [ 20,  77],\n",
       "       [ 20,  13],\n",
       "       [ 20,  79],\n",
       "       [ 21,  35],\n",
       "       [ 21,  66],\n",
       "       [ 23,  29],\n",
       "       [ 23,  98],\n",
       "       [ 24,  35],\n",
       "       [ 24,  73],\n",
       "       [ 25,   5],\n",
       "       [ 25,  73],\n",
       "       [ 28,  14],\n",
       "       [ 28,  82],\n",
       "       [ 28,  32],\n",
       "       [ 28,  61],\n",
       "       [ 29,  31],\n",
       "       [ 29,  87],\n",
       "       [ 30,   4],\n",
       "       [ 30,  73],\n",
       "       [ 33,   4],\n",
       "       [ 33,  92],\n",
       "       [ 33,  14],\n",
       "       [ 33,  81],\n",
       "       [ 34,  17],\n",
       "       [ 34,  73],\n",
       "       [ 37,  26],\n",
       "       [ 37,  75],\n",
       "       [ 38,  35],\n",
       "       [ 38,  92],\n",
       "       [ 39,  36],\n",
       "       [ 39,  61],\n",
       "       [ 39,  28],\n",
       "       [ 39,  65],\n",
       "       [ 40,  55],\n",
       "       [ 40,  47],\n",
       "       [ 40,  42],\n",
       "       [ 40,  42],\n",
       "       [ 42,  52],\n",
       "       [ 42,  60],\n",
       "       [ 43,  54],\n",
       "       [ 43,  60],\n",
       "       [ 43,  45],\n",
       "       [ 43,  41],\n",
       "       [ 44,  50],\n",
       "       [ 44,  46],\n",
       "       [ 46,  51],\n",
       "       [ 46,  46],\n",
       "       [ 46,  56],\n",
       "       [ 46,  55],\n",
       "       [ 47,  52],\n",
       "       [ 47,  59],\n",
       "       [ 48,  51],\n",
       "       [ 48,  59],\n",
       "       [ 48,  50],\n",
       "       [ 48,  48],\n",
       "       [ 48,  59],\n",
       "       [ 48,  47],\n",
       "       [ 49,  55],\n",
       "       [ 49,  42],\n",
       "       [ 50,  49],\n",
       "       [ 50,  56],\n",
       "       [ 54,  47],\n",
       "       [ 54,  54],\n",
       "       [ 54,  53],\n",
       "       [ 54,  48],\n",
       "       [ 54,  52],\n",
       "       [ 54,  42],\n",
       "       [ 54,  51],\n",
       "       [ 54,  55],\n",
       "       [ 54,  41],\n",
       "       [ 54,  44],\n",
       "       [ 54,  57],\n",
       "       [ 54,  46],\n",
       "       [ 57,  58],\n",
       "       [ 57,  55],\n",
       "       [ 58,  60],\n",
       "       [ 58,  46],\n",
       "       [ 59,  55],\n",
       "       [ 59,  41],\n",
       "       [ 60,  49],\n",
       "       [ 60,  40],\n",
       "       [ 60,  42],\n",
       "       [ 60,  52],\n",
       "       [ 60,  47],\n",
       "       [ 60,  50],\n",
       "       [ 61,  42],\n",
       "       [ 61,  49],\n",
       "       [ 62,  41],\n",
       "       [ 62,  48],\n",
       "       [ 62,  59],\n",
       "       [ 62,  55],\n",
       "       [ 62,  56],\n",
       "       [ 62,  42],\n",
       "       [ 63,  50],\n",
       "       [ 63,  46],\n",
       "       [ 63,  43],\n",
       "       [ 63,  48],\n",
       "       [ 63,  52],\n",
       "       [ 63,  54],\n",
       "       [ 64,  42],\n",
       "       [ 64,  46],\n",
       "       [ 65,  48],\n",
       "       [ 65,  50],\n",
       "       [ 65,  43],\n",
       "       [ 65,  59],\n",
       "       [ 67,  43],\n",
       "       [ 67,  57],\n",
       "       [ 67,  56],\n",
       "       [ 67,  40],\n",
       "       [ 69,  58],\n",
       "       [ 69,  91],\n",
       "       [ 70,  29],\n",
       "       [ 70,  77],\n",
       "       [ 71,  35],\n",
       "       [ 71,  95],\n",
       "       [ 71,  11],\n",
       "       [ 71,  75],\n",
       "       [ 71,   9],\n",
       "       [ 71,  75],\n",
       "       [ 72,  34],\n",
       "       [ 72,  71],\n",
       "       [ 73,   5],\n",
       "       [ 73,  88],\n",
       "       [ 73,   7],\n",
       "       [ 73,  73],\n",
       "       [ 74,  10],\n",
       "       [ 74,  72],\n",
       "       [ 75,   5],\n",
       "       [ 75,  93],\n",
       "       [ 76,  40],\n",
       "       [ 76,  87],\n",
       "       [ 77,  12],\n",
       "       [ 77,  97],\n",
       "       [ 77,  36],\n",
       "       [ 77,  74],\n",
       "       [ 78,  22],\n",
       "       [ 78,  90],\n",
       "       [ 78,  17],\n",
       "       [ 78,  88],\n",
       "       [ 78,  20],\n",
       "       [ 78,  76],\n",
       "       [ 78,  16],\n",
       "       [ 78,  89],\n",
       "       [ 78,   1],\n",
       "       [ 78,  78],\n",
       "       [ 78,   1],\n",
       "       [ 78,  73],\n",
       "       [ 79,  35],\n",
       "       [ 79,  83],\n",
       "       [ 81,   5],\n",
       "       [ 81,  93],\n",
       "       [ 85,  26],\n",
       "       [ 85,  75],\n",
       "       [ 86,  20],\n",
       "       [ 86,  95],\n",
       "       [ 87,  27],\n",
       "       [ 87,  63],\n",
       "       [ 87,  13],\n",
       "       [ 87,  75],\n",
       "       [ 87,  10],\n",
       "       [ 87,  92],\n",
       "       [ 88,  13],\n",
       "       [ 88,  86],\n",
       "       [ 88,  15],\n",
       "       [ 88,  69],\n",
       "       [ 93,  14],\n",
       "       [ 93,  90],\n",
       "       [ 97,  32],\n",
       "       [ 97,  86],\n",
       "       [ 98,  15],\n",
       "       [ 98,  88],\n",
       "       [ 99,  39],\n",
       "       [ 99,  97],\n",
       "       [101,  24],\n",
       "       [101,  68],\n",
       "       [103,  17],\n",
       "       [103,  85],\n",
       "       [103,  23],\n",
       "       [103,  69],\n",
       "       [113,   8],\n",
       "       [113,  91],\n",
       "       [120,  16],\n",
       "       [120,  79],\n",
       "       [126,  28],\n",
       "       [126,  74],\n",
       "       [137,  18],\n",
       "       [137,  83]], dtype=int64)"
      ]
     },
     "execution_count": 159,
     "metadata": {},
     "output_type": "execute_result"
    }
   ],
   "source": [
    "independent_values = df.iloc[:, [2, 3]].values # the anual income and spending score\n",
    "independent_values"
   ]
  },
  {
   "cell_type": "markdown",
   "id": "07313ea8",
   "metadata": {},
   "source": [
    "As we can see, we are extracting only 2nd and 3th feature. It is because we need a 2d plot to visualize the model, and some features are not required, such as customer_id."
   ]
  },
  {
   "cell_type": "markdown",
   "id": "08c1d827",
   "metadata": {},
   "source": [
    "#### Step-2: Finding the optimal number of clusters using the elbow method"
   ]
  },
  {
   "cell_type": "markdown",
   "id": "2784161d",
   "metadata": {},
   "source": [
    "In the second step, we will try to find the optimal number of clusters for our clustering problem. So, as discussed above, here we are going to use the elbow method for this purpose.\n",
    "\n",
    "As we already know, the elbow method uses the WCSS concept to draw the plot by plotting WCSS values on the Y-axis and the number of clusters on the X-axis. So we are going to calculate the value for WCSS for different k values ranging from 1 to 10"
   ]
  },
  {
   "cell_type": "code",
   "execution_count": 160,
   "id": "42e17ac3",
   "metadata": {},
   "outputs": [
    {
     "name": "stderr",
     "output_type": "stream",
     "text": [
      "C:\\Users\\vgeorgiev\\conda\\lib\\site-packages\\sklearn\\cluster\\_kmeans.py:1039: UserWarning: KMeans is known to have a memory leak on Windows with MKL, when there are less chunks than available threads. You can avoid it by setting the environment variable OMP_NUM_THREADS=1.\n",
      "  warnings.warn(\n"
     ]
    },
    {
     "data": {
      "image/png": "[encoded data removed]",
      "text/plain": [
       "<Figure size 720x504 with 1 Axes>"
      ]
     },
     "metadata": {
      "needs_background": "light"
     },
     "output_type": "display_data"
    }
   ],
   "source": [
    "plt.figure(figsize=(10,7))\n",
    "\n",
    "# finding optimal number of clusters using the elbow method\n",
    "wcss_list= []  # initializing the list for the values of WCSS\n",
    "\n",
    "# using for loop for iterations from 1 to 10\n",
    "for i in range(1, 11):\n",
    "    kmeans = KMeans(n_clusters=i, init='k-means++', random_state= 42)\n",
    "    kmeans.fit(independent_values)\n",
    "    wcss_list.append(kmeans.inertia_)\n",
    "plt.plot(range(1, 11), wcss_list)\n",
    "plt.title('The Elbow Method Graph')\n",
    "plt.xlabel('Number of clusters(k)')\n",
    "plt.grid(True)\n",
    "plt.xticks(range(1,11))\n",
    "plt.ylabel('wcss_list')\n",
    "\n",
    "plt.show()"
   ]
  },
  {
   "cell_type": "code",
   "execution_count": 161,
   "id": "bec4b915",
   "metadata": {},
   "outputs": [
    {
     "data": {
      "text/html": [
       "<div>\n",
       "<style scoped>\n",
       "    .dataframe tbody tr th:only-of-type {\n",
       "        vertical-align: middle;\n",
       "    }\n",
       "\n",
       "    .dataframe tbody tr th {\n",
       "        vertical-align: top;\n",
       "    }\n",
       "\n",
       "    .dataframe thead th {\n",
       "        text-align: right;\n",
       "    }\n",
       "</style>\n",
       "<table border=\"1\" class=\"dataframe\">\n",
       "  <thead>\n",
       "    <tr style=\"text-align: right;\">\n",
       "      <th></th>\n",
       "      <th>0</th>\n",
       "    </tr>\n",
       "  </thead>\n",
       "  <tbody>\n",
       "    <tr>\n",
       "      <th>0</th>\n",
       "      <td>269981.280000</td>\n",
       "    </tr>\n",
       "    <tr>\n",
       "      <th>1</th>\n",
       "      <td>181363.595960</td>\n",
       "    </tr>\n",
       "    <tr>\n",
       "      <th>2</th>\n",
       "      <td>106348.373062</td>\n",
       "    </tr>\n",
       "    <tr>\n",
       "      <th>3</th>\n",
       "      <td>73679.789039</td>\n",
       "    </tr>\n",
       "    <tr>\n",
       "      <th>4</th>\n",
       "      <td>44448.455448</td>\n",
       "    </tr>\n",
       "    <tr>\n",
       "      <th>5</th>\n",
       "      <td>37233.814511</td>\n",
       "    </tr>\n",
       "    <tr>\n",
       "      <th>6</th>\n",
       "      <td>30259.657207</td>\n",
       "    </tr>\n",
       "    <tr>\n",
       "      <th>7</th>\n",
       "      <td>25011.839349</td>\n",
       "    </tr>\n",
       "    <tr>\n",
       "      <th>8</th>\n",
       "      <td>21850.165283</td>\n",
       "    </tr>\n",
       "    <tr>\n",
       "      <th>9</th>\n",
       "      <td>19672.072849</td>\n",
       "    </tr>\n",
       "  </tbody>\n",
       "</table>\n",
       "</div>"
      ],
      "text/plain": [
       "               0\n",
       "0  269981.280000\n",
       "1  181363.595960\n",
       "2  106348.373062\n",
       "3   73679.789039\n",
       "4   44448.455448\n",
       "5   37233.814511\n",
       "6   30259.657207\n",
       "7   25011.839349\n",
       "8   21850.165283\n",
       "9   19672.072849"
      ]
     },
     "execution_count": 161,
     "metadata": {},
     "output_type": "execute_result"
    }
   ],
   "source": [
    "pd.DataFrame(wcss_list)\n"
   ]
  },
  {
   "cell_type": "markdown",
   "id": "6a857f87",
   "metadata": {},
   "source": [
    "#### Step- 3: Training the K-means algorithm on the training dataset"
   ]
  },
  {
   "cell_type": "markdown",
   "id": "2ce03648",
   "metadata": {},
   "source": [
    "As we have got the number of clusters, so we can now train the model on the dataset.\n",
    "\n",
    "To train the model, we will use the same two lines of code as we have used in the above section, but here instead of using i, we will use 5, as we know there are 5 clusters that need to be formed. The code is given below:"
   ]
  },
  {
   "cell_type": "code",
   "execution_count": 162,
   "id": "ceda6617",
   "metadata": {},
   "outputs": [],
   "source": [
    "# training the K-means model on a dataset  \n",
    "kmeans = KMeans(n_clusters=5, init='k-means++', random_state= 42)  \n",
    "train_predict= kmeans.fit_predict(independent_values) "
   ]
  },
  {
   "cell_type": "markdown",
   "id": "dbc511c8",
   "metadata": {},
   "source": [
    "The first line is the same as above for creating the object of KMeans class.\n",
    "\n",
    "In the second line of code, we have created the dependent variable 'train_predict' to train the model.\n",
    "\n",
    "By executing the above lines of code, we will get the 'train_predict' variable. We can now compare the values of 'train_predict with our original dataset. Consider the below listing:"
   ]
  },
  {
   "cell_type": "code",
   "execution_count": 163,
   "id": "ae4e2e30",
   "metadata": {},
   "outputs": [
    {
     "name": "stdout",
     "output_type": "stream",
     "text": [
      "200 200\n"
     ]
    }
   ],
   "source": [
    "print(len(df), len(train_predict))"
   ]
  },
  {
   "cell_type": "code",
   "execution_count": 164,
   "id": "3e88756f",
   "metadata": {},
   "outputs": [
    {
     "name": "stdout",
     "output_type": "stream",
     "text": [
      "<class 'pandas.core.frame.DataFrame'> <class 'numpy.ndarray'>\n"
     ]
    }
   ],
   "source": [
    "print(type(df), type(train_predict))"
   ]
  },
  {
   "cell_type": "code",
   "execution_count": 165,
   "id": "75155543",
   "metadata": {},
   "outputs": [],
   "source": [
    "train_predict = pd.DataFrame(train_predict)"
   ]
  },
  {
   "cell_type": "code",
   "execution_count": 166,
   "id": "377d215e",
   "metadata": {},
   "outputs": [
    {
     "name": "stdout",
     "output_type": "stream",
     "text": [
      "<class 'pandas.core.frame.DataFrame'> <class 'pandas.core.frame.DataFrame'>\n"
     ]
    }
   ],
   "source": [
    "print(type(df), type(train_predict))\n"
   ]
  },
  {
   "cell_type": "code",
   "execution_count": 167,
   "id": "242725c6",
   "metadata": {},
   "outputs": [
    {
     "data": {
      "text/html": [
       "<div>\n",
       "<style scoped>\n",
       "    .dataframe tbody tr th:only-of-type {\n",
       "        vertical-align: middle;\n",
       "    }\n",
       "\n",
       "    .dataframe tbody tr th {\n",
       "        vertical-align: top;\n",
       "    }\n",
       "\n",
       "    .dataframe thead th {\n",
       "        text-align: right;\n",
       "    }\n",
       "</style>\n",
       "<table border=\"1\" class=\"dataframe\">\n",
       "  <thead>\n",
       "    <tr style=\"text-align: right;\">\n",
       "      <th></th>\n",
       "      <th>Gender</th>\n",
       "      <th>Age</th>\n",
       "      <th>Annual Income (k$)</th>\n",
       "      <th>Spending Score (1-100)</th>\n",
       "      <th>Cluster</th>\n",
       "    </tr>\n",
       "  </thead>\n",
       "  <tbody>\n",
       "    <tr>\n",
       "      <th>0</th>\n",
       "      <td>Male</td>\n",
       "      <td>19</td>\n",
       "      <td>15</td>\n",
       "      <td>39</td>\n",
       "      <td>2</td>\n",
       "    </tr>\n",
       "    <tr>\n",
       "      <th>1</th>\n",
       "      <td>Male</td>\n",
       "      <td>21</td>\n",
       "      <td>15</td>\n",
       "      <td>81</td>\n",
       "      <td>3</td>\n",
       "    </tr>\n",
       "    <tr>\n",
       "      <th>2</th>\n",
       "      <td>Female</td>\n",
       "      <td>20</td>\n",
       "      <td>16</td>\n",
       "      <td>6</td>\n",
       "      <td>2</td>\n",
       "    </tr>\n",
       "    <tr>\n",
       "      <th>3</th>\n",
       "      <td>Female</td>\n",
       "      <td>23</td>\n",
       "      <td>16</td>\n",
       "      <td>77</td>\n",
       "      <td>3</td>\n",
       "    </tr>\n",
       "    <tr>\n",
       "      <th>4</th>\n",
       "      <td>Female</td>\n",
       "      <td>31</td>\n",
       "      <td>17</td>\n",
       "      <td>40</td>\n",
       "      <td>2</td>\n",
       "    </tr>\n",
       "    <tr>\n",
       "      <th>...</th>\n",
       "      <td>...</td>\n",
       "      <td>...</td>\n",
       "      <td>...</td>\n",
       "      <td>...</td>\n",
       "      <td>...</td>\n",
       "    </tr>\n",
       "    <tr>\n",
       "      <th>195</th>\n",
       "      <td>Female</td>\n",
       "      <td>35</td>\n",
       "      <td>120</td>\n",
       "      <td>79</td>\n",
       "      <td>4</td>\n",
       "    </tr>\n",
       "    <tr>\n",
       "      <th>196</th>\n",
       "      <td>Female</td>\n",
       "      <td>45</td>\n",
       "      <td>126</td>\n",
       "      <td>28</td>\n",
       "      <td>1</td>\n",
       "    </tr>\n",
       "    <tr>\n",
       "      <th>197</th>\n",
       "      <td>Male</td>\n",
       "      <td>32</td>\n",
       "      <td>126</td>\n",
       "      <td>74</td>\n",
       "      <td>4</td>\n",
       "    </tr>\n",
       "    <tr>\n",
       "      <th>198</th>\n",
       "      <td>Male</td>\n",
       "      <td>32</td>\n",
       "      <td>137</td>\n",
       "      <td>18</td>\n",
       "      <td>1</td>\n",
       "    </tr>\n",
       "    <tr>\n",
       "      <th>199</th>\n",
       "      <td>Male</td>\n",
       "      <td>30</td>\n",
       "      <td>137</td>\n",
       "      <td>83</td>\n",
       "      <td>4</td>\n",
       "    </tr>\n",
       "  </tbody>\n",
       "</table>\n",
       "<p>200 rows × 5 columns</p>\n",
       "</div>"
      ],
      "text/plain": [
       "     Gender  Age  Annual Income (k$)  Spending Score (1-100)  Cluster\n",
       "0      Male   19                  15                      39        2\n",
       "1      Male   21                  15                      81        3\n",
       "2    Female   20                  16                       6        2\n",
       "3    Female   23                  16                      77        3\n",
       "4    Female   31                  17                      40        2\n",
       "..      ...  ...                 ...                     ...      ...\n",
       "195  Female   35                 120                      79        4\n",
       "196  Female   45                 126                      28        1\n",
       "197    Male   32                 126                      74        4\n",
       "198    Male   32                 137                      18        1\n",
       "199    Male   30                 137                      83        4\n",
       "\n",
       "[200 rows x 5 columns]"
      ]
     },
     "execution_count": 167,
     "metadata": {},
     "output_type": "execute_result"
    }
   ],
   "source": [
    "df['Cluster'] = train_predict\n",
    "df"
   ]
  },
  {
   "cell_type": "markdown",
   "id": "df9134c9",
   "metadata": {},
   "source": [
    "From the above listing, we can now relate that the CustomerID 1 belongs to a cluster 2 and ID 2 belongs to cluster 3, and so on."
   ]
  },
  {
   "cell_type": "markdown",
   "id": "8e527461",
   "metadata": {},
   "source": [
    "#### Step-4: Visualizing the Clusters"
   ]
  },
  {
   "cell_type": "markdown",
   "id": "06b739b8",
   "metadata": {},
   "source": [
    "The last step is to visualize the clusters. As we have 5 clusters for our model, so we will visualize each cluster one by one.\n"
   ]
  },
  {
   "cell_type": "code",
   "execution_count": 168,
   "id": "f7504427",
   "metadata": {},
   "outputs": [
    {
     "data": {
      "image/png": "[encoded data removed]",
      "text/plain": [
       "<Figure size 720x720 with 1 Axes>"
      ]
     },
     "metadata": {
      "needs_background": "light"
     },
     "output_type": "display_data"
    }
   ],
   "source": [
    "# visulaizing the clusters\n",
    "plt.figure(figsize=(10,10))\n",
    "plt.scatter(independent_values[train_predict[0] == 0, 0], independent_values[train_predict[0] == 0, 1], s = 100, c = 'blue', label = 'Cluster 1') #for first cluster\n",
    "plt.scatter(independent_values[train_predict[0] == 1, 0], independent_values[train_predict[0] == 1, 1], s = 100, c = 'green', label = 'Cluster 2') #for second cluster\n",
    "plt.scatter(independent_values[train_predict[0]== 2, 0], independent_values[train_predict[0] == 2, 1], s = 100, c = 'red', label = 'Cluster 3') #for third cluster\n",
    "plt.scatter(independent_values[train_predict[0] == 3, 0], independent_values[train_predict[0] == 3, 1], s = 100, c = 'cyan', label = 'Cluster 4') #for fourth cluster\n",
    "plt.scatter(independent_values[train_predict[0] == 4, 0], independent_values[train_predict[0] == 4, 1], s = 100, c = 'magenta', label = 'Cluster 5') #for fifth cluster\n",
    "plt.scatter(kmeans.cluster_centers_[:, 0], kmeans.cluster_centers_[:, 1], s = 300, c = 'yellow', label = 'Centroid')\n",
    "plt.title('Clusters of customers')\n",
    "plt.xlabel('Annual Income (k$)')\n",
    "plt.ylabel('Spending Score (1-100)')\n",
    "plt.legend()\n",
    "plt.show()"
   ]
  },
  {
   "cell_type": "markdown",
   "id": "554e1165",
   "metadata": {},
   "source": [
    "The output image is clearly showing the five different clusters with different colors. The clusters are formed between two parameters of the dataset; \n",
    "Annual income of customer and Spending. We can change the colors and labels as per the requirement or choice. We can also observe some points from the above patterns, which are given below:\n",
    "\n",
    "  - Cluster1 shows the customers with average salary and average spending so we can categorize these customers as potential target.\n",
    "  - Cluster2 shows the customer has a high income but low spending, so we can categorize them as careful.\n",
    "  - Cluster3 shows the low income and also low spending so they can be categorized as sensible.\n",
    "  - Cluster4 shows the customers with low income with very high spending so they can be categorized as careless.\n",
    "  - Cluster5 shows the customers with high income and high spending so they can be categorized as target, and these customers can be the most profitable customers for the mall owner."
   ]
  },
  {
   "cell_type": "markdown",
   "id": "0d34de5f",
   "metadata": {},
   "source": [
    "### Compare the numer of Mave and Female in our dataset\n"
   ]
  },
  {
   "cell_type": "code",
   "execution_count": 169,
   "id": "b8afec66",
   "metadata": {},
   "outputs": [
    {
     "data": {
      "image/png": "[encoded data removed]",
      "text/plain": [
       "<Figure size 1080x360 with 1 Axes>"
      ]
     },
     "metadata": {
      "needs_background": "light"
     },
     "output_type": "display_data"
    }
   ],
   "source": [
    "plt.figure(figsize=(15,5))\n",
    "sns.countplot(y='Gender', data=df)\n",
    "plt.show()"
   ]
  },
  {
   "cell_type": "markdown",
   "id": "08aae6bc",
   "metadata": {},
   "source": [
    "As we can see the number of Female are more than the numer of Male in the data that we have. This can be due to the fact that in general the women are more likely to spend time in the mall shoping than the men. "
   ]
  },
  {
   "cell_type": "markdown",
   "id": "f8e1755d",
   "metadata": {},
   "source": [
    "### Represent the distribution based on Age, Anual income and Spending score\n"
   ]
  },
  {
   "cell_type": "code",
   "execution_count": 170,
   "id": "634a4cd0",
   "metadata": {},
   "outputs": [
    {
     "data": {
      "image/png": "[encoded data removed]",
      "text/plain": [
       "<Figure size 1080x504 with 3 Axes>"
      ]
     },
     "metadata": {
      "needs_background": "light"
     },
     "output_type": "display_data"
    }
   ],
   "source": [
    "plt.figure(figsize=(15,7))\n",
    "counter = 0\n",
    "for feature in ['Age', 'Annual Income (k$)', 'Spending Score (1-100)']:\n",
    "    counter += 1\n",
    "    plt.subplot(1, 3 , counter)\n",
    "    sns.set(style='whitegrid')\n",
    "    sns.violinplot(x= feature, y= 'Gender', data= df)\n",
    "    plt.ylabel('Gender' if counter == 1 else '')\n",
    "    plt.subplots_adjust(wspace= 0.5) #The width of the padding between subplots, as a fraction of the average Axes width.\n",
    "plt.show()"
   ]
  },
  {
   "cell_type": "markdown",
   "id": "248160db",
   "metadata": {},
   "source": [
    "As we can see there is very high density of women around 30 years compare to men.\n",
    "\n",
    "About the anual income we can see that the high density is around 60 yers for women and lets say 60 to 65 for men.\n",
    "\n",
    "The Spending score of men and women are higher from 40 to 55.\n"
   ]
  },
  {
   "cell_type": "markdown",
   "id": "77453a28",
   "metadata": {},
   "source": [
    "## Lets divide the 'Age' into groups for better visualisation and better analysis"
   ]
  },
  {
   "cell_type": "code",
   "execution_count": 171,
   "id": "cafc4917",
   "metadata": {},
   "outputs": [
    {
     "name": "stdout",
     "output_type": "stream",
     "text": [
      "Here are the borders of our Age range:\n",
      "The minimum age in our dataset is 18y and the maximum is 70y\n"
     ]
    }
   ],
   "source": [
    "min_age = df['Age'].min()\n",
    "max_age = df['Age'].max()\n",
    "print(f'Here are the borders of our Age range:\\nThe minimum age in our dataset is {min_age}y and the maximum is {max_age}y')"
   ]
  },
  {
   "cell_type": "code",
   "execution_count": 172,
   "id": "eb712207",
   "metadata": {},
   "outputs": [],
   "source": [
    "# create groups per age\n",
    "\n",
    "age_18_25 = df['Age'][(df['Age'] >= 18) & (df['Age'] <= 25)]\n",
    "age_26_35 = df['Age'][(df['Age'] >= 26) & (df['Age'] <= 35)]\n",
    "age_36_45 = df['Age'][(df['Age'] >= 36) & (df['Age'] <= 45)]\n",
    "age_46_55 = df['Age'][(df['Age'] >= 46) & (df['Age'] <= 55)]\n",
    "age_55_plus = df['Age'][df['Age'] >= 56]"
   ]
  },
  {
   "cell_type": "code",
   "execution_count": 173,
   "id": "2a82937e",
   "metadata": {},
   "outputs": [
    {
     "data": {
      "image/png": "[encoded data removed]",
      "text/plain": [
       "<Figure size 1080x432 with 1 Axes>"
      ]
     },
     "metadata": {},
     "output_type": "display_data"
    }
   ],
   "source": [
    "# lest plot the 5 groups of age deviation\n",
    "\n",
    "age_x = ['18 to 25', '26 to 35', '36 to 45', '46 to 55', '56 and abouve']\n",
    "age_y = [len(age_18_25), len(age_26_35), len(age_36_45), len(age_46_55), len(age_55_plus)]\n",
    "\n",
    "plt.figure(figsize=(15,6))\n",
    "sns.barplot(x= age_x, y= age_y)\n",
    "plt.title('Number of customers ped age')\n",
    "plt.xlabel('Age')\n",
    "plt.ylabel('Number of customers')\n",
    "plt.show()"
   ]
  },
  {
   "cell_type": "markdown",
   "id": "f17adcc4",
   "metadata": {},
   "source": [
    "As we can see from this barplot, the most common visitors of the mall are between 26 and 35 years old."
   ]
  },
  {
   "cell_type": "markdown",
   "id": "a5afae7a",
   "metadata": {},
   "source": [
    "## Lets try to understand the relaationship between the Annual Income and the Spending Score"
   ]
  },
  {
   "cell_type": "code",
   "execution_count": 174,
   "id": "54cfa7b4",
   "metadata": {},
   "outputs": [
    {
     "data": {
      "text/plain": [
       "<seaborn.axisgrid.FacetGrid at 0x1d931a4f3a0>"
      ]
     },
     "execution_count": 174,
     "metadata": {},
     "output_type": "execute_result"
    },
    {
     "data": {
      "image/png": "[encoded data removed]",
      "text/plain": [
       "<Figure size 360x360 with 1 Axes>"
      ]
     },
     "metadata": {},
     "output_type": "display_data"
    }
   ],
   "source": [
    "sns.relplot(x='Annual Income (k$)',\ty='Spending Score (1-100)', data=df)"
   ]
  },
  {
   "cell_type": "markdown",
   "id": "a7679f28",
   "metadata": {},
   "source": [
    "Here we can see that there is not much relationship between customers with anual income 20 to 40 and from 70 and above.\n",
    "\n",
    "But tere is some relationship betwen 40 and 60 scores"
   ]
  },
  {
   "cell_type": "markdown",
   "id": "19f36c6c",
   "metadata": {},
   "source": [
    "## Spending score\n"
   ]
  },
  {
   "cell_type": "code",
   "execution_count": 175,
   "id": "4d4c3610",
   "metadata": {},
   "outputs": [
    {
     "name": "stdout",
     "output_type": "stream",
     "text": [
      "Here are the borders of our Spending score range:\n",
      "The minimum value of Spending score in our dataset is 1 and the maximum is 99\n"
     ]
    }
   ],
   "source": [
    "min_sp_score = df['Spending Score (1-100)'].min()\n",
    "max_sp_score = df['Spending Score (1-100)'].max()\n",
    "print(f'''Here are the borders of our Spending score range:\n",
    "The minimum value of Spending score in our dataset is {min_sp_score} and the maximum is {max_sp_score}''')"
   ]
  },
  {
   "cell_type": "code",
   "execution_count": 176,
   "id": "a9fe0e71",
   "metadata": {},
   "outputs": [],
   "source": [
    "# create groups per Spending score\n",
    "\n",
    "sp_score_1_20 = df['Spending Score (1-100)'][(df['Spending Score (1-100)'] >= 1) & (df['Spending Score (1-100)'] <= 20)]\n",
    "sp_score_21_40 = df['Spending Score (1-100)'][(df['Spending Score (1-100)'] >= 21) & (df['Spending Score (1-100)'] <= 40)]\n",
    "sp_score_41_60 = df['Spending Score (1-100)'][(df['Spending Score (1-100)'] >= 41) & (df['Spending Score (1-100)'] <= 60)]\n",
    "sp_score_61_80 = df['Spending Score (1-100)'][(df['Spending Score (1-100)'] >= 61) & (df['Spending Score (1-100)'] <= 80)]\n",
    "sp_score_81_100 = df['Spending Score (1-100)'][(df['Spending Score (1-100)'] >= 81) & (df['Spending Score (1-100)'] <= 100)]\n"
   ]
  },
  {
   "cell_type": "code",
   "execution_count": 177,
   "id": "d165095b",
   "metadata": {},
   "outputs": [],
   "source": [
    "# X axes represents the range of spanding scores\n",
    "sp_score_x = ['1 - 20', '21 - 40', '41 - 60', '61 - 80', '81 - 100']\n",
    "\n",
    "# Y asxes represents the number of customers in each of Spending score categories\n",
    "sp_score_y = [len(sp_score_1_20), len(sp_score_21_40), len(sp_score_41_60), len(sp_score_61_80), len(sp_score_81_100)]"
   ]
  },
  {
   "cell_type": "markdown",
   "metadata": {},
   "source": []
  },
  {
   "cell_type": "code",
   "execution_count": 178,
   "id": "0d72748a",
   "metadata": {},
   "outputs": [
    {
     "data": {
      "image/png": "[encoded data removed]",
      "text/plain": [
       "<Figure size 1080x432 with 1 Axes>"
      ]
     },
     "metadata": {},
     "output_type": "display_data"
    }
   ],
   "source": [
    "plt.figure(figsize=(15,6))\n",
    "sns.barplot(x=sp_score_x, y=sp_score_y, palette='rocket')\n",
    "plt.title('Spending Scores per Customer')\n",
    "plt.xlabel('Spending Score Groups')\n",
    "plt.ylabel('Customers')\n",
    "plt.show()"
   ]
  },
  {
   "cell_type": "markdown",
   "id": "1834ad54",
   "metadata": {},
   "source": [
    "## Anual income\n"
   ]
  },
  {
   "cell_type": "code",
   "execution_count": 179,
   "id": "4d912efa",
   "metadata": {},
   "outputs": [
    {
     "name": "stdout",
     "output_type": "stream",
     "text": [
      "Here are the borders of our Anual income range:\n",
      "The minimum value of  Anual income in our dataset is 15 and the maximum is 137\n"
     ]
    }
   ],
   "source": [
    "min_anual_income = df['Annual Income (k$)'].min()\n",
    "max_anual_income = df['Annual Income (k$)'].max()\n",
    "print(f'''Here are the borders of our Anual income range:\n",
    "The minimum value of  Anual income in our dataset is {min_anual_income} and the maximum is {max_anual_income}''')"
   ]
  },
  {
   "cell_type": "code",
   "execution_count": 180,
   "id": "9f4a3c1f",
   "metadata": {},
   "outputs": [],
   "source": [
    "# create groups per Spending score\n",
    "\n",
    "an_income_0_30 = df['Annual Income (k$)'][(df['Annual Income (k$)'] >= 0) & (df['Annual Income (k$)'] <= 30)]\n",
    "an_income_31_60 = df['Annual Income (k$)'][(df['Annual Income (k$)'] >= 31) & (df['Annual Income (k$)'] <= 60)]\n",
    "an_income_61_90 = df['Annual Income (k$)'][(df['Annual Income (k$)'] >= 61) & (df['Annual Income (k$)'] <= 90)]\n",
    "an_income_91_120 = df['Annual Income (k$)'][(df['Annual Income (k$)'] >= 91) & (df['Annual Income (k$)'] <= 120)]\n",
    "an_income_121_plus = df['Annual Income (k$)'][(df['Annual Income (k$)'] >= 121) & (df['Annual Income (k$)'] <= 150)]"
   ]
  },
  {
   "cell_type": "code",
   "execution_count": 181,
   "id": "981058cf",
   "metadata": {},
   "outputs": [],
   "source": [
    "# X axes represents the range of anual income\n",
    "an_income_x = ['1 - 30', '31 - 60', '61 - 90', '91 - 120', '121 - 150']\n",
    "\n",
    "# Y asxes represents the number of customers in each of anual income category\n",
    "an_income_y = [len(an_income_0_30), len(an_income_31_60), len(an_income_61_90), len(an_income_91_120), len(an_income_121_plus)]"
   ]
  },
  {
   "cell_type": "code",
   "execution_count": 182,
   "id": "97e9e990",
   "metadata": {},
   "outputs": [
    {
     "data": {
      "image/png": "[encoded data removed]",
      "text/plain": [
       "<Figure size 1080x432 with 1 Axes>"
      ]
     },
     "metadata": {},
     "output_type": "display_data"
    }
   ],
   "source": [
    "plt.figure(figsize=(15,6))\n",
    "sns.barplot(x=an_income_x, y=an_income_y, palette='cubehelix')\n",
    "plt.title('Anual income per customer')\n",
    "plt.xlabel('Anual income ($)')\n",
    "plt.ylabel('Customers')\n",
    "plt.show()\n"
   ]
  },
  {
   "cell_type": "markdown",
   "id": "923ba77f",
   "metadata": {},
   "source": [
    "## Cluster per Age and Spending score"
   ]
  },
  {
   "cell_type": "code",
   "execution_count": 183,
   "id": "05958948",
   "metadata": {},
   "outputs": [
    {
     "data": {
      "text/plain": [
       "numpy.ndarray"
      ]
     },
     "execution_count": 183,
     "metadata": {},
     "output_type": "execute_result"
    }
   ],
   "source": [
    "X1 = df.loc[:, ['Age', 'Spending Score (1-100)']].values\n",
    "type(X1)"
   ]
  },
  {
   "cell_type": "code",
   "execution_count": 184,
   "id": "9f27d69a",
   "metadata": {},
   "outputs": [
    {
     "name": "stderr",
     "output_type": "stream",
     "text": [
      "C:\\Users\\vgeorgiev\\conda\\lib\\site-packages\\sklearn\\cluster\\_kmeans.py:1039: UserWarning: KMeans is known to have a memory leak on Windows with MKL, when there are less chunks than available threads. You can avoid it by setting the environment variable OMP_NUM_THREADS=1.\n",
      "  warnings.warn(\n"
     ]
    }
   ],
   "source": [
    "wcss_2 = []\n",
    "\n",
    "for k in range(1, 11):\n",
    "    kmeans = KMeans(n_clusters=k, init='k-means++')\n",
    "    kmeans.fit(X1)\n",
    "    wcss_2.append(kmeans.inertia_)"
   ]
  },
  {
   "cell_type": "code",
   "execution_count": 185,
   "id": "5fd12ff5",
   "metadata": {},
   "outputs": [
    {
     "data": {
      "image/png": "[encoded data removed]",
      "text/plain": [
       "<Figure size 864x432 with 1 Axes>"
      ]
     },
     "metadata": {},
     "output_type": "display_data"
    }
   ],
   "source": [
    "plt.figure(figsize=(12,6))\n",
    "plt.plot(range(1,11), wcss_2, linewidth=2, color='red', marker=8)\n",
    "plt.grid(True)\n",
    "plt.xlabel('K Value')\n",
    "plt.ylabel('WCSS')\n",
    "plt.show()\n"
   ]
  },
  {
   "cell_type": "markdown",
   "id": "cc3eb2e8",
   "metadata": {},
   "source": [
    "The number of clusters that are optimal for this data and this relationship is 4"
   ]
  },
  {
   "cell_type": "code",
   "execution_count": 186,
   "id": "b5cb296e",
   "metadata": {},
   "outputs": [
    {
     "name": "stdout",
     "output_type": "stream",
     "text": [
      "[2 1 0 1 2 1 0 1 0 1 0 1 0 1 0 1 2 2 0 1 2 1 0 1 0 1 0 2 0 1 0 1 0 1 0 1 0\n",
      " 1 0 1 3 1 3 2 0 2 3 2 2 2 3 2 2 3 3 3 3 3 2 3 3 2 3 3 3 2 3 3 2 2 3 3 3 3\n",
      " 3 2 3 2 2 3 3 2 3 3 2 3 3 2 2 3 3 2 3 2 2 2 3 2 3 2 2 3 3 2 3 2 3 3 3 3 3\n",
      " 2 2 2 2 2 3 3 3 3 2 2 2 1 2 1 3 1 0 1 0 1 2 1 0 1 0 1 0 1 0 1 2 1 0 1 3 1\n",
      " 0 1 0 1 0 1 0 1 0 1 0 1 3 1 0 1 0 1 0 1 0 2 0 1 0 1 0 1 0 1 0 1 0 1 0 1 2\n",
      " 1 0 1 0 1 0 1 0 1 0 1 0 1 0 1]\n"
     ]
    }
   ],
   "source": [
    "# Create a cluster based on age and spending score\n",
    "\n",
    "kmeans_2 = KMeans(n_clusters=4)\n",
    "label = kmeans_2.fit_predict(X1)\n",
    "print(label)"
   ]
  },
  {
   "cell_type": "code",
   "execution_count": 188,
   "id": "60ee8c23",
   "metadata": {},
   "outputs": [
    {
     "name": "stdout",
     "output_type": "stream",
     "text": [
      "[[43.29166667 15.02083333]\n",
      " [30.1754386  82.35087719]\n",
      " [27.61702128 49.14893617]\n",
      " [55.70833333 48.22916667]]\n"
     ]
    }
   ],
   "source": [
    "# X and Y of the four centers\n",
    "print(kmeans_2.cluster_centers_)"
   ]
  },
  {
   "cell_type": "code",
   "execution_count": 193,
   "id": "5d158177",
   "metadata": {},
   "outputs": [
    {
     "data": {
      "image/png": "[encoded data removed]",
      "text/plain": [
       "<Figure size 720x720 with 1 Axes>"
      ]
     },
     "metadata": {},
     "output_type": "display_data"
    }
   ],
   "source": [
    "# visulaizing the clusters\n",
    "plt.figure(figsize=(10,10))\n",
    "plt.scatter(X1[:,0], X1[:, 1], c=kmeans_2.labels_, cmap='rainbow')\n",
    "plt.scatter(kmeans_2.cluster_centers_[:,0], kmeans_2.cluster_centers_[:,1], color='black', s=200, label = 'Centroid')\n",
    "plt.title('Cluster based on Age and Spending Score')\n",
    "plt.xlabel('Age')\n",
    "plt.ylabel('Spending Score (1-100)')\n",
    "plt.legend()\n",
    "plt.show()"
   ]
  }
 ],
 "metadata": {
  "interpreter": {
   "hash": "ba593eeb1a6f1437599bcdc46eb8a7c43d080df23758d09eb8f47f58b4d03efe"
  },
  "kernelspec": {
   "display_name": "Python 3.8.12 64-bit ('base': conda)",
   "language": "python",
   "name": "python3"
  },
  "language_info": {
   "codemirror_mode": {
    "name": "ipython",
    "version": 3
   },
   "file_extension": ".py",
   "mimetype": "text/x-python",
   "name": "python",
   "nbconvert_exporter": "python",
   "pygments_lexer": "ipython3",
   "version": "3.8.12"
  }
 },
 "nbformat": 4,
 "nbformat_minor": 5
}
