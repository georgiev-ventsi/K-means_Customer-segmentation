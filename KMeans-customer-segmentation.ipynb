{
 "cells": [
  {
   "cell_type": "markdown",
   "id": "1fc0c234",
   "metadata": {},
   "source": [
    "# <center> K-Means - Customer segmentation </center>"
   ]
  },
  {
   "cell_type": "markdown",
   "id": "11105390",
   "metadata": {},
   "source": [
    "<hr>"
   ]
  },
  {
   "cell_type": "markdown",
   "id": "6d0c4a1c",
   "metadata": {},
   "source": [
    "## Project Agenda\n",
    "\n",
    " #### 1. What is K-Means Algorithm?\n",
    " #### 2. How does the K-Means Algorithm Work?\n",
    " #### 3. How to choose the value of \"K number of clusters\" in K-means Clustering?\n",
    " #### 4. Elbow Method\n",
    " #### 5. Python Implementation of K-means Clustering Algorithm\n",
    " \n",
    "   * Step-1: Data pre-processing Step\n",
    "   * Step-2: Finding the optimal number of clusters using the elbow method\n",
    "   * Step- 3: Training the K-means algorithm on the training dataset\n",
    "   * Step-4: Visualizing the Clusters\n",
    "\n",
    " #### 6. Analyzing the obtained results\n",
    " \n",
    " "
   ]
  },
  {
   "cell_type": "markdown",
   "id": "4a3ab75c",
   "metadata": {},
   "source": [
    "<hr>"
   ]
  },
  {
   "cell_type": "markdown",
   "id": "02c0cef3",
   "metadata": {},
   "source": [
    "### 1. What is K-Means Algorithm?"
   ]
  },
  {
   "cell_type": "markdown",
   "id": "4fcb936d",
   "metadata": {},
   "source": [
    "K-Means Clustering is an Unsupervised Learning algorithm, which groups the unlabeled dataset into different clusters. Here K defines the number of pre-defined clusters that need to be created in the process, as if K=2, there will be two clusters, and for K=3, there will be three clusters, and so on.<br>\n",
    "\n",
    "It is an iterative algorithm that divides the unlabeled dataset into k different clusters in such a way that each dataset belongs only one group that has similar properties.\n",
    "It allows us to cluster the data into different groups and a convenient way to discover the categories of groups in the unlabeled dataset on its own without the need for any training.<br>\n",
    "\n",
    "It is a centroid-based algorithm, where each cluster is associated with a centroid. The main aim of this algorithm is to minimize the sum of distances between the data point and their corresponding clusters.<br>\n",
    "\n",
    "The algorithm takes the unlabeled dataset as input, divides the dataset into k-number of clusters, and repeats the process until it does not find the best clusters. The value of k should be predetermined in this algorithm. <br>\n",
    "\n",
    "The k-means clustering algorithm mainly performs two tasks:<br>\n",
    "\n",
    "Determines the best value for K center points or centroids by an iterative process.<br>\n",
    "Assigns each data point to its closest k-center. Those data points which are near to the particular k-center, create a cluster.\n",
    "Hence each cluster has datapoints with some commonalities, and it is away from other clusters.<br>\n",
    "\n",
    "The below diagram explains the working of the K-means Clustering Algorithm:<br>\n",
    "\n"
   ]
  },
  {
   "cell_type": "markdown",
   "id": "62af64b1",
   "metadata": {},
   "source": [
    "<center>\n",
    "    <img src='./img/k-means-clustering-algorithm-in-machine-learning.png'>\n",
    "</center>\n"
   ]
  },
  {
   "cell_type": "markdown",
   "id": "99feb74e",
   "metadata": {},
   "source": [
    "### 2. How does the K-Means Algorithm Work?"
   ]
  },
  {
   "cell_type": "markdown",
   "id": "4fbf80d6",
   "metadata": {},
   "source": [
    "\n",
    "The working of the K-Means algorithm is explained in the below steps:\n",
    "\n",
    "Step-1: Select the number K to decide the number of clusters.\n",
    "\n",
    "Step-2: Select random K points or centroids. (It can be other from the input dataset).\n",
    "\n",
    "Step-3: Assign each data point to their closest centroid, which will form the predefined K clusters.\n",
    "\n",
    "Step-4: Calculate the variance and place a new centroid of each cluster.\n",
    "\n",
    "Step-5: Repeat the third steps, which means reassign each datapoint to the new closest centroid of each cluster.\n",
    "\n",
    "Step-6: If any reassignment occurs, then go to step-4 else go to FINISH.\n",
    "\n",
    "Step-7: The model is ready.\n",
    "\n",
    "Let's understand the above steps by considering the visual plots:\n",
    "\n",
    "Suppose we have two variables M1 and M2. The x-y axis scatter plot of these two variables is given below:"
   ]
  },
  {
   "cell_type": "markdown",
   "id": "4672e52d",
   "metadata": {},
   "source": [
    "<center>\n",
    "    <img src='./img/k-means-clustering-algorithm-in-machine-learning2.png'>\n",
    "</center>"
   ]
  },
  {
   "cell_type": "markdown",
   "id": "77452776",
   "metadata": {},
   "source": [
    "Let's take number k of clusters, i.e., K=2, to identify the dataset and to put them into different clusters. It means here we will try to group these datasets into two different clusters.<br>\n",
    "\n",
    "We need to choose some random k points or centroid to form the cluster. These points can be either the points from the dataset or any other point. So, here we are selecting the below two points as k points, which are not the part of our dataset. Consider the below image:"
   ]
  },
  {
   "cell_type": "markdown",
   "id": "5f333378",
   "metadata": {},
   "source": [
    "<center>\n",
    "    <img src='./img/k-means-clustering-algorithm-in-machine-learning3.png'>\n",
    "</center>"
   ]
  },
  {
   "cell_type": "markdown",
   "id": "e5a193d8",
   "metadata": {},
   "source": [
    "Now we will assign each data point of the scatter plot to its closest K-point or centroid. We will compute it by applying some mathematics that we have studied to calculate the distance between two points. So, we will draw a median between both the centroids. Consider the below image:"
   ]
  },
  {
   "cell_type": "markdown",
   "id": "3cf5fe26",
   "metadata": {},
   "source": [
    "<center>\n",
    "    <img src='./img/k-means-clustering-algorithm-in-machine-learning4.png'>\n",
    "</center>"
   ]
  },
  {
   "cell_type": "markdown",
   "id": "6ed3bfcc",
   "metadata": {},
   "source": [
    "From the above image, it is clear that points left side of the line is near to the K1 or blue centroid, and points to the right of the line are close to the yellow centroid. Let's color them as blue and yellow for clear visualization."
   ]
  },
  {
   "cell_type": "markdown",
   "id": "38f0210a",
   "metadata": {},
   "source": [
    "<center>\n",
    "    <img src='./img/k-means-clustering-algorithm-in-machine-learning5.png'>\n",
    "</center>"
   ]
  },
  {
   "cell_type": "markdown",
   "id": "bfce9ecb",
   "metadata": {},
   "source": [
    "As we need to find the closest cluster, so we will repeat the process by choosing a new centroid. To choose the new centroids, we will compute the center of gravity of these centroids, and will find new centroids as below:"
   ]
  },
  {
   "cell_type": "markdown",
   "id": "2c7f7d13",
   "metadata": {},
   "source": [
    "<center>\n",
    "    <img src='./img/k-means-clustering-algorithm-in-machine-learning6.png'>\n",
    "</center>"
   ]
  },
  {
   "cell_type": "markdown",
   "id": "35a72862",
   "metadata": {},
   "source": [
    "Next, we will reassign each datapoint to the new centroid. For this, we will repeat the same process of finding a median line. The median will be like below image:"
   ]
  },
  {
   "cell_type": "markdown",
   "id": "71b3d1dc",
   "metadata": {},
   "source": [
    "<center>\n",
    "    <img src='./img/k-means-clustering-algorithm-in-machine-learning7.png'>\n",
    "</center>"
   ]
  },
  {
   "cell_type": "markdown",
   "id": "339d94ee",
   "metadata": {},
   "source": [
    "From the above image, we can see, one yellow point is on the left side of the line, and two blue points are right to the line. So, these three points will be assigned to new centroids."
   ]
  },
  {
   "cell_type": "markdown",
   "id": "596c7652",
   "metadata": {},
   "source": [
    "<center>\n",
    "    <img src='./img/k-means-clustering-algorithm-in-machine-learning8.png'>\n",
    "</center>"
   ]
  },
  {
   "cell_type": "markdown",
   "id": "d21db571",
   "metadata": {},
   "source": [
    "As reassignment has taken place, so we will again go to the step-4, which is finding new centroids or K-points.<br>\n",
    "\n",
    "We will repeat the process by finding the center of gravity of centroids, so the new centroids will be as shown in the below image:"
   ]
  },
  {
   "cell_type": "markdown",
   "id": "397a35d4",
   "metadata": {},
   "source": [
    "<center>\n",
    "    <img src='./img/k-means-clustering-algorithm-in-machine-learning9.png'>\n",
    "</center>"
   ]
  },
  {
   "cell_type": "markdown",
   "id": "bcc65ac9",
   "metadata": {},
   "source": [
    "As we got the new centroids so again will draw the median line and reassign the data points. So, the image will be:"
   ]
  },
  {
   "cell_type": "markdown",
   "id": "ccafd7a9",
   "metadata": {},
   "source": [
    "<center>\n",
    "    <img src='./img/k-means-clustering-algorithm-in-machine-learning10.png'>\n",
    "</center>"
   ]
  },
  {
   "cell_type": "markdown",
   "id": "ded38ec8",
   "metadata": {},
   "source": [
    "We can see in the above image; there are no dissimilar data points on either side of the line, which means our model is formed. Consider the below image:"
   ]
  },
  {
   "cell_type": "markdown",
   "id": "715bba14",
   "metadata": {},
   "source": [
    "<center>\n",
    "    <img src='./img/k-means-clustering-algorithm-in-machine-learning11.png'>\n",
    "</center>"
   ]
  },
  {
   "cell_type": "markdown",
   "id": "eddbb713",
   "metadata": {},
   "source": [
    "As our model is ready, so we can now remove the assumed centroids, and the two final clusters will be as shown in the below image:"
   ]
  },
  {
   "cell_type": "markdown",
   "id": "a455d740",
   "metadata": {},
   "source": [
    "<center>\n",
    "    <img src='./img/k-means-clustering-algorithm-in-machine-learning12.png'>\n",
    "</center>"
   ]
  }
 ],
 "metadata": {
  "interpreter": {
   "hash": "ba593eeb1a6f1437599bcdc46eb8a7c43d080df23758d09eb8f47f58b4d03efe"
  },
  "kernelspec": {
   "display_name": "Python 3.8.12 64-bit ('base': conda)",
   "language": "python",
   "name": "python3"
  },
  "language_info": {
   "codemirror_mode": {
    "name": "ipython",
    "version": 3
   },
   "file_extension": ".py",
   "mimetype": "text/x-python",
   "name": "python",
   "nbconvert_exporter": "python",
   "pygments_lexer": "ipython3",
   "version": "3.8.12"
  }
 },
 "nbformat": 4,
 "nbformat_minor": 5
}
